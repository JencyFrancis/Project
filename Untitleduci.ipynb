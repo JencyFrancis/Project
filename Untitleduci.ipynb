{
 "cells": [
  {
   "cell_type": "code",
   "execution_count": 272,
   "id": "2988f07b-298e-4c01-b104-24687dd6bb1f",
   "metadata": {},
   "outputs": [],
   "source": [
    "# import packages\n",
    "import pandas as pd\n",
    "import numpy as np\n",
    "import matplotlib.pyplot as plt\n",
    "import seaborn as sns\n",
    "from sklearn.decomposition import PCA\n",
    "from sklearn.preprocessing import StandardScaler, MinMaxScaler, RobustScaler\n",
    "from sklearn.impute import SimpleImputer, KNNImputer\n",
    "from datetime import datetime, timedelta"
   ]
  },
  {
   "cell_type": "markdown",
   "id": "2af56cf0-3d22-43b9-ad74-d601971ee31c",
   "metadata": {},
   "source": [
    "## Data Preprocessing "
   ]
  },
  {
   "cell_type": "code",
   "execution_count": 273,
   "id": "6e45a5c3-6d0a-4bc7-a9bc-c98044698cbc",
   "metadata": {},
   "outputs": [
    {
     "data": {
      "text/html": [
       "<div>\n",
       "<style scoped>\n",
       "    .dataframe tbody tr th:only-of-type {\n",
       "        vertical-align: middle;\n",
       "    }\n",
       "\n",
       "    .dataframe tbody tr th {\n",
       "        vertical-align: top;\n",
       "    }\n",
       "\n",
       "    .dataframe thead th {\n",
       "        text-align: right;\n",
       "    }\n",
       "</style>\n",
       "<table border=\"1\" class=\"dataframe\">\n",
       "  <thead>\n",
       "    <tr style=\"text-align: right;\">\n",
       "      <th></th>\n",
       "      <th>UDI</th>\n",
       "      <th>Product ID</th>\n",
       "      <th>Type</th>\n",
       "      <th>Air temperature [K]</th>\n",
       "      <th>Process temperature [K]</th>\n",
       "      <th>Rotational speed [rpm]</th>\n",
       "      <th>Torque [Nm]</th>\n",
       "      <th>Tool wear [min]</th>\n",
       "      <th>Machine failure</th>\n",
       "      <th>TWF</th>\n",
       "      <th>HDF</th>\n",
       "      <th>PWF</th>\n",
       "      <th>OSF</th>\n",
       "      <th>RNF</th>\n",
       "      <th>Failure Type</th>\n",
       "    </tr>\n",
       "  </thead>\n",
       "  <tbody>\n",
       "    <tr>\n",
       "      <th>0</th>\n",
       "      <td>1</td>\n",
       "      <td>M14860</td>\n",
       "      <td>M</td>\n",
       "      <td>298.1</td>\n",
       "      <td>308.6</td>\n",
       "      <td>1551</td>\n",
       "      <td>42.8</td>\n",
       "      <td>0</td>\n",
       "      <td>0</td>\n",
       "      <td>0</td>\n",
       "      <td>0</td>\n",
       "      <td>0</td>\n",
       "      <td>0</td>\n",
       "      <td>0</td>\n",
       "      <td>No Failure</td>\n",
       "    </tr>\n",
       "    <tr>\n",
       "      <th>1</th>\n",
       "      <td>2</td>\n",
       "      <td>L47181</td>\n",
       "      <td>L</td>\n",
       "      <td>298.2</td>\n",
       "      <td>308.7</td>\n",
       "      <td>1408</td>\n",
       "      <td>46.3</td>\n",
       "      <td>3</td>\n",
       "      <td>0</td>\n",
       "      <td>0</td>\n",
       "      <td>0</td>\n",
       "      <td>0</td>\n",
       "      <td>0</td>\n",
       "      <td>0</td>\n",
       "      <td>No Failure</td>\n",
       "    </tr>\n",
       "    <tr>\n",
       "      <th>2</th>\n",
       "      <td>3</td>\n",
       "      <td>L47182</td>\n",
       "      <td>L</td>\n",
       "      <td>298.1</td>\n",
       "      <td>308.5</td>\n",
       "      <td>1498</td>\n",
       "      <td>49.4</td>\n",
       "      <td>5</td>\n",
       "      <td>0</td>\n",
       "      <td>0</td>\n",
       "      <td>0</td>\n",
       "      <td>0</td>\n",
       "      <td>0</td>\n",
       "      <td>0</td>\n",
       "      <td>No Failure</td>\n",
       "    </tr>\n",
       "    <tr>\n",
       "      <th>3</th>\n",
       "      <td>4</td>\n",
       "      <td>L47183</td>\n",
       "      <td>L</td>\n",
       "      <td>298.2</td>\n",
       "      <td>308.6</td>\n",
       "      <td>1433</td>\n",
       "      <td>39.5</td>\n",
       "      <td>7</td>\n",
       "      <td>0</td>\n",
       "      <td>0</td>\n",
       "      <td>0</td>\n",
       "      <td>0</td>\n",
       "      <td>0</td>\n",
       "      <td>0</td>\n",
       "      <td>No Failure</td>\n",
       "    </tr>\n",
       "    <tr>\n",
       "      <th>4</th>\n",
       "      <td>5</td>\n",
       "      <td>L47184</td>\n",
       "      <td>L</td>\n",
       "      <td>298.2</td>\n",
       "      <td>308.7</td>\n",
       "      <td>1408</td>\n",
       "      <td>40.0</td>\n",
       "      <td>9</td>\n",
       "      <td>0</td>\n",
       "      <td>0</td>\n",
       "      <td>0</td>\n",
       "      <td>0</td>\n",
       "      <td>0</td>\n",
       "      <td>0</td>\n",
       "      <td>No Failure</td>\n",
       "    </tr>\n",
       "  </tbody>\n",
       "</table>\n",
       "</div>"
      ],
      "text/plain": [
       "   UDI Product ID Type  Air temperature [K]  Process temperature [K]  \\\n",
       "0    1     M14860    M                298.1                    308.6   \n",
       "1    2     L47181    L                298.2                    308.7   \n",
       "2    3     L47182    L                298.1                    308.5   \n",
       "3    4     L47183    L                298.2                    308.6   \n",
       "4    5     L47184    L                298.2                    308.7   \n",
       "\n",
       "   Rotational speed [rpm]  Torque [Nm]  Tool wear [min]  Machine failure  TWF  \\\n",
       "0                    1551         42.8                0                0    0   \n",
       "1                    1408         46.3                3                0    0   \n",
       "2                    1498         49.4                5                0    0   \n",
       "3                    1433         39.5                7                0    0   \n",
       "4                    1408         40.0                9                0    0   \n",
       "\n",
       "   HDF  PWF  OSF  RNF Failure Type  \n",
       "0    0    0    0    0   No Failure  \n",
       "1    0    0    0    0   No Failure  \n",
       "2    0    0    0    0   No Failure  \n",
       "3    0    0    0    0   No Failure  \n",
       "4    0    0    0    0   No Failure  "
      ]
     },
     "execution_count": 273,
     "metadata": {},
     "output_type": "execute_result"
    }
   ],
   "source": [
    "# Load the dataset\n",
    "df = pd.read_excel(\"ai4i2020.xlsx\")\n",
    "df.head()"
   ]
  },
  {
   "cell_type": "code",
   "execution_count": 274,
   "id": "714df78d-5196-4ea6-83bc-cab26d5262b9",
   "metadata": {},
   "outputs": [
    {
     "name": "stdout",
     "output_type": "stream",
     "text": [
      "\n",
      "Shape of Dataset (rows, columns):\n",
      "(10000, 15)\n"
     ]
    }
   ],
   "source": [
    "# Check the shape of the dataset\n",
    "print(\"\\nShape of Dataset (rows, columns):\")\n",
    "print(df.shape)"
   ]
  },
  {
   "cell_type": "code",
   "execution_count": 275,
   "id": "982a4e04-6b0e-4089-baf4-9a99ec91e59e",
   "metadata": {},
   "outputs": [
    {
     "name": "stdout",
     "output_type": "stream",
     "text": [
      "\n",
      "Column Names:\n",
      "['UDI', 'Product ID', 'Type', 'Air temperature [K]', 'Process temperature [K]', 'Rotational speed [rpm]', 'Torque [Nm]', 'Tool wear [min]', 'Machine failure', 'TWF', 'HDF', 'PWF', 'OSF', 'RNF', 'Failure Type']\n"
     ]
    }
   ],
   "source": [
    "# Check column names\n",
    "print(\"\\nColumn Names:\")\n",
    "print(df.columns.tolist())"
   ]
  },
  {
   "cell_type": "code",
   "execution_count": 276,
   "id": "e8d68409-c4c6-4dcc-8f89-ed3a48f46381",
   "metadata": {},
   "outputs": [
    {
     "data": {
      "text/html": [
       "<div>\n",
       "<style scoped>\n",
       "    .dataframe tbody tr th:only-of-type {\n",
       "        vertical-align: middle;\n",
       "    }\n",
       "\n",
       "    .dataframe tbody tr th {\n",
       "        vertical-align: top;\n",
       "    }\n",
       "\n",
       "    .dataframe thead th {\n",
       "        text-align: right;\n",
       "    }\n",
       "</style>\n",
       "<table border=\"1\" class=\"dataframe\">\n",
       "  <thead>\n",
       "    <tr style=\"text-align: right;\">\n",
       "      <th></th>\n",
       "      <th>UID</th>\n",
       "      <th>Product_ID</th>\n",
       "      <th>Type</th>\n",
       "      <th>Air temperature</th>\n",
       "      <th>Process temperature</th>\n",
       "      <th>Rotational speed</th>\n",
       "      <th>Torque</th>\n",
       "      <th>Tool wear</th>\n",
       "      <th>Machine failure</th>\n",
       "      <th>TWF</th>\n",
       "      <th>HDF</th>\n",
       "      <th>PWF</th>\n",
       "      <th>OSF</th>\n",
       "      <th>RNF</th>\n",
       "      <th>Failure Type</th>\n",
       "    </tr>\n",
       "  </thead>\n",
       "  <tbody>\n",
       "    <tr>\n",
       "      <th>0</th>\n",
       "      <td>1</td>\n",
       "      <td>M14860</td>\n",
       "      <td>M</td>\n",
       "      <td>298.1</td>\n",
       "      <td>308.6</td>\n",
       "      <td>1551</td>\n",
       "      <td>42.8</td>\n",
       "      <td>0</td>\n",
       "      <td>0</td>\n",
       "      <td>0</td>\n",
       "      <td>0</td>\n",
       "      <td>0</td>\n",
       "      <td>0</td>\n",
       "      <td>0</td>\n",
       "      <td>No Failure</td>\n",
       "    </tr>\n",
       "    <tr>\n",
       "      <th>1</th>\n",
       "      <td>2</td>\n",
       "      <td>L47181</td>\n",
       "      <td>L</td>\n",
       "      <td>298.2</td>\n",
       "      <td>308.7</td>\n",
       "      <td>1408</td>\n",
       "      <td>46.3</td>\n",
       "      <td>3</td>\n",
       "      <td>0</td>\n",
       "      <td>0</td>\n",
       "      <td>0</td>\n",
       "      <td>0</td>\n",
       "      <td>0</td>\n",
       "      <td>0</td>\n",
       "      <td>No Failure</td>\n",
       "    </tr>\n",
       "    <tr>\n",
       "      <th>2</th>\n",
       "      <td>3</td>\n",
       "      <td>L47182</td>\n",
       "      <td>L</td>\n",
       "      <td>298.1</td>\n",
       "      <td>308.5</td>\n",
       "      <td>1498</td>\n",
       "      <td>49.4</td>\n",
       "      <td>5</td>\n",
       "      <td>0</td>\n",
       "      <td>0</td>\n",
       "      <td>0</td>\n",
       "      <td>0</td>\n",
       "      <td>0</td>\n",
       "      <td>0</td>\n",
       "      <td>No Failure</td>\n",
       "    </tr>\n",
       "    <tr>\n",
       "      <th>3</th>\n",
       "      <td>4</td>\n",
       "      <td>L47183</td>\n",
       "      <td>L</td>\n",
       "      <td>298.2</td>\n",
       "      <td>308.6</td>\n",
       "      <td>1433</td>\n",
       "      <td>39.5</td>\n",
       "      <td>7</td>\n",
       "      <td>0</td>\n",
       "      <td>0</td>\n",
       "      <td>0</td>\n",
       "      <td>0</td>\n",
       "      <td>0</td>\n",
       "      <td>0</td>\n",
       "      <td>No Failure</td>\n",
       "    </tr>\n",
       "    <tr>\n",
       "      <th>4</th>\n",
       "      <td>5</td>\n",
       "      <td>L47184</td>\n",
       "      <td>L</td>\n",
       "      <td>298.2</td>\n",
       "      <td>308.7</td>\n",
       "      <td>1408</td>\n",
       "      <td>40.0</td>\n",
       "      <td>9</td>\n",
       "      <td>0</td>\n",
       "      <td>0</td>\n",
       "      <td>0</td>\n",
       "      <td>0</td>\n",
       "      <td>0</td>\n",
       "      <td>0</td>\n",
       "      <td>No Failure</td>\n",
       "    </tr>\n",
       "  </tbody>\n",
       "</table>\n",
       "</div>"
      ],
      "text/plain": [
       "   UID Product_ID Type  Air temperature  Process temperature  \\\n",
       "0    1     M14860    M            298.1                308.6   \n",
       "1    2     L47181    L            298.2                308.7   \n",
       "2    3     L47182    L            298.1                308.5   \n",
       "3    4     L47183    L            298.2                308.6   \n",
       "4    5     L47184    L            298.2                308.7   \n",
       "\n",
       "   Rotational speed  Torque  Tool wear  Machine failure  TWF  HDF  PWF  OSF  \\\n",
       "0              1551    42.8          0                0    0    0    0    0   \n",
       "1              1408    46.3          3                0    0    0    0    0   \n",
       "2              1498    49.4          5                0    0    0    0    0   \n",
       "3              1433    39.5          7                0    0    0    0    0   \n",
       "4              1408    40.0          9                0    0    0    0    0   \n",
       "\n",
       "   RNF Failure Type  \n",
       "0    0   No Failure  \n",
       "1    0   No Failure  \n",
       "2    0   No Failure  \n",
       "3    0   No Failure  \n",
       "4    0   No Failure  "
      ]
     },
     "execution_count": 276,
     "metadata": {},
     "output_type": "execute_result"
    }
   ],
   "source": [
    "# Rename columns \n",
    "df.rename(columns = {\n",
    "    'UDI' : 'UID',\n",
    "    'Product ID' : 'Product_ID',\n",
    "    'Air temperature [K]' : 'Air temperature',\n",
    "    'Process temperature [K]' : 'Process temperature',\n",
    "    'Rotational speed [rpm]' : 'Rotational speed',\n",
    "    'Torque [Nm]' : 'Torque',\n",
    "    'Tool wear [min]' : 'Tool wear'\n",
    "}, inplace = True)\n",
    "df.head()"
   ]
  },
  {
   "cell_type": "code",
   "execution_count": 277,
   "id": "0b19841a-afda-4291-b3bd-404f9d4165b8",
   "metadata": {},
   "outputs": [
    {
     "data": {
      "text/plain": [
       "UID                      int64\n",
       "Product_ID              object\n",
       "Type                    object\n",
       "Air temperature        float64\n",
       "Process temperature    float64\n",
       "Rotational speed         int64\n",
       "Torque                 float64\n",
       "Tool wear                int64\n",
       "Machine failure          int64\n",
       "TWF                      int64\n",
       "HDF                      int64\n",
       "PWF                      int64\n",
       "OSF                      int64\n",
       "RNF                      int64\n",
       "Failure Type            object\n",
       "dtype: object"
      ]
     },
     "execution_count": 277,
     "metadata": {},
     "output_type": "execute_result"
    }
   ],
   "source": [
    "# Check datatypes of each column\n",
    "df.dtypes"
   ]
  },
  {
   "cell_type": "code",
   "execution_count": 278,
   "id": "c2f2af46-3210-4ee0-86ef-8e56a2dd7d27",
   "metadata": {},
   "outputs": [
    {
     "name": "stdout",
     "output_type": "stream",
     "text": [
      "\n",
      "Statistical Summary:\n",
      "                UID Product_ID   Type  Air temperature  Process temperature  \\\n",
      "count   10000.00000      10000  10000     10000.000000         10000.000000   \n",
      "unique          NaN      10000      3              NaN                  NaN   \n",
      "top             NaN     M14860      L              NaN                  NaN   \n",
      "freq            NaN          1   6000              NaN                  NaN   \n",
      "mean     5000.50000        NaN    NaN       300.004930           310.005560   \n",
      "std      2886.89568        NaN    NaN         2.000259             1.483734   \n",
      "min         1.00000        NaN    NaN       295.300000           305.700000   \n",
      "25%      2500.75000        NaN    NaN       298.300000           308.800000   \n",
      "50%      5000.50000        NaN    NaN       300.100000           310.100000   \n",
      "75%      7500.25000        NaN    NaN       301.500000           311.100000   \n",
      "max     10000.00000        NaN    NaN       304.500000           313.800000   \n",
      "\n",
      "        Rotational speed        Torque     Tool wear  Machine failure  \\\n",
      "count       10000.000000  10000.000000  10000.000000     10000.000000   \n",
      "unique               NaN           NaN           NaN              NaN   \n",
      "top                  NaN           NaN           NaN              NaN   \n",
      "freq                 NaN           NaN           NaN              NaN   \n",
      "mean         1538.776100     39.986910    107.951000         0.033900   \n",
      "std           179.284096      9.968934     63.654147         0.180981   \n",
      "min          1168.000000      3.800000      0.000000         0.000000   \n",
      "25%          1423.000000     33.200000     53.000000         0.000000   \n",
      "50%          1503.000000     40.100000    108.000000         0.000000   \n",
      "75%          1612.000000     46.800000    162.000000         0.000000   \n",
      "max          2886.000000     76.600000    253.000000         1.000000   \n",
      "\n",
      "                 TWF           HDF           PWF           OSF          RNF  \\\n",
      "count   10000.000000  10000.000000  10000.000000  10000.000000  10000.00000   \n",
      "unique           NaN           NaN           NaN           NaN          NaN   \n",
      "top              NaN           NaN           NaN           NaN          NaN   \n",
      "freq             NaN           NaN           NaN           NaN          NaN   \n",
      "mean        0.004600      0.011500      0.009500      0.009800      0.00190   \n",
      "std         0.067671      0.106625      0.097009      0.098514      0.04355   \n",
      "min         0.000000      0.000000      0.000000      0.000000      0.00000   \n",
      "25%         0.000000      0.000000      0.000000      0.000000      0.00000   \n",
      "50%         0.000000      0.000000      0.000000      0.000000      0.00000   \n",
      "75%         0.000000      0.000000      0.000000      0.000000      0.00000   \n",
      "max         1.000000      1.000000      1.000000      1.000000      1.00000   \n",
      "\n",
      "       Failure Type  \n",
      "count         10000  \n",
      "unique            6  \n",
      "top      No Failure  \n",
      "freq           9652  \n",
      "mean            NaN  \n",
      "std             NaN  \n",
      "min             NaN  \n",
      "25%             NaN  \n",
      "50%             NaN  \n",
      "75%             NaN  \n",
      "max             NaN  \n"
     ]
    }
   ],
   "source": [
    "# Check summary statistics \n",
    "print(\"\\nStatistical Summary:\")\n",
    "print(df.describe(include = 'all'))"
   ]
  },
  {
   "cell_type": "code",
   "execution_count": 279,
   "id": "30abbf2b-7b70-49b5-9e30-598e9f6153a9",
   "metadata": {},
   "outputs": [
    {
     "name": "stdout",
     "output_type": "stream",
     "text": [
      "\n",
      "Null Values per Column:\n",
      "UID                    0\n",
      "Product_ID             0\n",
      "Type                   0\n",
      "Air temperature        0\n",
      "Process temperature    0\n",
      "Rotational speed       0\n",
      "Torque                 0\n",
      "Tool wear              0\n",
      "Machine failure        0\n",
      "TWF                    0\n",
      "HDF                    0\n",
      "PWF                    0\n",
      "OSF                    0\n",
      "RNF                    0\n",
      "Failure Type           0\n",
      "dtype: int64\n"
     ]
    }
   ],
   "source": [
    "# Chexck for null values\n",
    "print(\"\\nNull Values per Column:\")\n",
    "print(df.isnull().sum())"
   ]
  },
  {
   "cell_type": "code",
   "execution_count": 280,
   "id": "ba8f932e-e69b-4a72-a83c-efce9b37d2d1",
   "metadata": {},
   "outputs": [
    {
     "name": "stdout",
     "output_type": "stream",
     "text": [
      "\n",
      "Number of Duplicate Rows:\n",
      "0\n"
     ]
    }
   ],
   "source": [
    "# Check for duplicate rows\n",
    "print(\"\\nNumber of Duplicate Rows:\")\n",
    "print(df.duplicated().sum())"
   ]
  },
  {
   "cell_type": "code",
   "execution_count": 281,
   "id": "dd938cc1-aab8-48df-ae62-58fbca30c3b2",
   "metadata": {},
   "outputs": [
    {
     "name": "stdout",
     "output_type": "stream",
     "text": [
      "\n",
      "Number of Unique Product IDs: 10000\n",
      "Unique Product IDs Sample: ['M14860' 'L47181' 'L47182' 'L47183' 'L47184']\n"
     ]
    }
   ],
   "source": [
    "# Check for unique values in \"Product ID\" column\n",
    "if \"Product_ID\" in df.columns:\n",
    "    print(\"\\nNumber of Unique Product IDs:\", df['Product_ID'].nunique())\n",
    "    print(\"Unique Product IDs Sample:\", df['Product_ID'].unique()[:5])"
   ]
  },
  {
   "cell_type": "code",
   "execution_count": 282,
   "id": "ea574a67-d3a1-4ec1-abb6-7a0a6bfb1ecc",
   "metadata": {},
   "outputs": [
    {
     "data": {
      "text/plain": [
       "0       14860\n",
       "1       47181\n",
       "2       47182\n",
       "3       47183\n",
       "4       47184\n",
       "        ...  \n",
       "9995    24855\n",
       "9996    39410\n",
       "9997    24857\n",
       "9998    39412\n",
       "9999    24859\n",
       "Name: Product_ID_clean, Length: 10000, dtype: object"
      ]
     },
     "execution_count": 282,
     "metadata": {},
     "output_type": "execute_result"
    }
   ],
   "source": [
    "# Extract Product IDs\n",
    "df['Product_ID_clean'] = [''.join(filter(str.isdigit, pid)) for pid in df['Product_ID']]\n",
    "df['Product_ID_clean']"
   ]
  },
  {
   "cell_type": "code",
   "execution_count": 283,
   "id": "e3ee02bc-6fbf-459f-a357-ca65d38f9b0d",
   "metadata": {},
   "outputs": [],
   "source": [
    "# Convert numeric columns to float\n",
    "df['Rotational speed'] = df['Rotational speed'].astype('float64')\n",
    "df['Tool wear'] = df['Tool wear'].astype('float64')"
   ]
  },
  {
   "cell_type": "code",
   "execution_count": null,
   "id": "b4e44f8e-aefa-46eb-a8e3-e78f2ae80f3e",
   "metadata": {},
   "outputs": [],
   "source": []
  },
  {
   "cell_type": "code",
   "execution_count": null,
   "id": "4522600a-d756-45b7-8c6f-37b2ce57a72c",
   "metadata": {},
   "outputs": [],
   "source": []
  },
  {
   "cell_type": "code",
   "execution_count": null,
   "id": "fd9fe1c8-27b6-4880-a36e-7bd3c4389abf",
   "metadata": {},
   "outputs": [],
   "source": []
  },
  {
   "cell_type": "code",
   "execution_count": null,
   "id": "a09f4473-54bc-4dbf-9df0-3f1c604d74c9",
   "metadata": {},
   "outputs": [],
   "source": []
  },
  {
   "cell_type": "code",
   "execution_count": null,
   "id": "e010a0aa-669d-4deb-94ef-975539a09722",
   "metadata": {},
   "outputs": [],
   "source": []
  },
  {
   "cell_type": "code",
   "execution_count": null,
   "id": "abbff186-a651-4e6f-8fc0-0cf2847a48ac",
   "metadata": {},
   "outputs": [],
   "source": []
  },
  {
   "cell_type": "code",
   "execution_count": null,
   "id": "b4895dd2-657f-4413-ace1-44a3f3decaa5",
   "metadata": {},
   "outputs": [],
   "source": []
  },
  {
   "cell_type": "code",
   "execution_count": null,
   "id": "54abced7-ab14-4cf6-83e3-115bf6a5a5ed",
   "metadata": {},
   "outputs": [],
   "source": []
  }
 ],
 "metadata": {
  "kernelspec": {
   "display_name": "Python 3 (ipykernel)",
   "language": "python",
   "name": "python3"
  },
  "language_info": {
   "codemirror_mode": {
    "name": "ipython",
    "version": 3
   },
   "file_extension": ".py",
   "mimetype": "text/x-python",
   "name": "python",
   "nbconvert_exporter": "python",
   "pygments_lexer": "ipython3",
   "version": "3.11.7"
  }
 },
 "nbformat": 4,
 "nbformat_minor": 5
}
